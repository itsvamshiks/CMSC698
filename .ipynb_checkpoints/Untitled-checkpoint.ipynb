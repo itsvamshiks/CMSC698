{
 "cells": [
  {
   "cell_type": "code",
   "execution_count": 1,
   "metadata": {},
   "outputs": [],
   "source": [
    "import pandas as pd\n",
    "import numpy as np\n",
    "import random\n",
    "from sklearn import linear_model\n",
    "from sklearn.tree import DecisionTreeRegressor"
   ]
  },
  {
   "cell_type": "code",
   "execution_count": 2,
   "metadata": {},
   "outputs": [],
   "source": [
    "def real_population(x1, size=5000, random_state=1234):\n",
    "    #set.seed(99)\n",
    "    y = x1**2 \n",
    "    r = np.random.RandomState(random_state)\n",
    "    irr_noise = r.normal(-5,10,size)\n",
    "    y = y + irr_noise\n",
    "    df = pd.DataFrame({'target':y, 'X1':x1})\n",
    "    return df"
   ]
  },
  {
   "cell_type": "code",
   "execution_count": 11,
   "metadata": {},
   "outputs": [],
   "source": [
    "def simulation_data(size = 5000, random_seed= 99):\n",
    "    np.random.seed(random_seed)\n",
    "    x1 = np.random.uniform(-1,1,size)\n",
    "    df = real_population(x1,size)\n",
    "    return df"
   ]
  },
  {
   "cell_type": "code",
   "execution_count": 5,
   "metadata": {},
   "outputs": [],
   "source": [
    "def get_mse(mydf, model='Lin'):\n",
    "    truth = real_population(X_test[0], size=1)['target'][0]\n",
    "    truth = [truth] * simulations\n",
    "    if(model== 'Lin'):\n",
    "        estimate = mydf[1]\n",
    "    else:\n",
    "        estimate = mydf[2]\n",
    "    m = np.mean((estimate-truth)**2)\n",
    "    return m"
   ]
  },
  {
   "cell_type": "code",
   "execution_count": 6,
   "metadata": {},
   "outputs": [],
   "source": [
    "def get_bias(mydf, model='Lin'):\n",
    "    truth = real_population(X_test[0], size=1)['target'][0]\n",
    "    #truth = [truth] * simulations\n",
    "    if(model== 'Lin'):\n",
    "        estimate = mydf[1]\n",
    "    else:\n",
    "        estimate = mydf[2]\n",
    "    bias = np.mean(estimate) - truth\n",
    "    return bias"
   ]
  },
  {
   "cell_type": "code",
   "execution_count": 7,
   "metadata": {},
   "outputs": [],
   "source": [
    "def get_var(mydf, model='Lin'):\n",
    "    if(model== 'Lin'):\n",
    "        estimate = mydf[1]\n",
    "    else:\n",
    "        estimate = mydf[2]\n",
    "    var = np.mean((estimate - np.mean(estimate))**2)\n",
    "    return var"
   ]
  },
  {
   "cell_type": "code",
   "execution_count": 8,
   "metadata": {},
   "outputs": [],
   "source": [
    "def run_simulation(lin_model, tree_model, sims = 100):\n",
    "    simulations = sims\n",
    "    predicted = []\n",
    "    for i in range(0,simulations):\n",
    "            D = simulation_data(5000, i)\n",
    "            X = D[['X1']]\n",
    "            Y = D['target']\n",
    "            lin_model.fit(X,Y)\n",
    "            tree_model.fit(X,Y)\n",
    "            tup = (i, reg.predict(pd.DataFrame(X_test).T), tree.predict(pd.DataFrame(X_test).T))\n",
    "            predicted.append(tup)\n",
    "    predicted_df = pd.DataFrame(predicted)\n",
    "    return predicted_df"
   ]
  },
  {
   "cell_type": "code",
   "execution_count": 9,
   "metadata": {},
   "outputs": [],
   "source": [
    "## function to evaluate the different metrics of simulation\n",
    "def evaluate_simulation(prediction_df):\n",
    "    print(\"Bias for Lin model is: \", get_bias(prediction_df, 'Lin')**2)\n",
    "    print(\"Bias for Tree model is: \", get_bias(prediction_df, 'tree')**2)\n",
    "    \n",
    "    print(\"Var for Lin model is:\", get_var(prediction_df, 'Lin'))\n",
    "    print(\"var for Tree model is:\", get_var(prediction_df, 'tree'))\n",
    "    \n",
    "    print(\"MSE for Lin model is:\", get_mse(prediction_df, 'Lin'))\n",
    "    print(\"MSE for Tree model is:\", get_mse(prediction_df, 'tree'))\n",
    "\n",
    "    return()\n"
   ]
  },
  {
   "cell_type": "code",
   "execution_count": 13,
   "metadata": {},
   "outputs": [
    {
     "name": "stdout",
     "output_type": "stream",
     "text": [
      "Bias for Lin model is:  [20.10455431]\n",
      "Bias for Tree model is:  [20.49605375]\n",
      "Var for Lin model is: [0.02338395]\n",
      "var for Tree model is: [0.14802885]\n",
      "MSE for Lin model is: [20.12793825]\n",
      "MSE for Tree model is: [20.6440826]\n",
      "\n",
      " end of iter for depth 3\n",
      "\n",
      "\n",
      "Bias for Lin model is:  [20.10455431]\n",
      "Bias for Tree model is:  [20.59523615]\n",
      "Var for Lin model is: [0.02338395]\n",
      "var for Tree model is: [0.16950299]\n",
      "MSE for Lin model is: [20.12793825]\n",
      "MSE for Tree model is: [20.76473914]\n",
      "\n",
      " end of iter for depth 4\n",
      "\n",
      "\n",
      "Bias for Lin model is:  [20.10455431]\n",
      "Bias for Tree model is:  [19.51780859]\n",
      "Var for Lin model is: [0.02338395]\n",
      "var for Tree model is: [0.72026649]\n",
      "MSE for Lin model is: [20.12793825]\n",
      "MSE for Tree model is: [20.23807508]\n",
      "\n",
      " end of iter for depth 6\n",
      "\n",
      "\n",
      "Bias for Lin model is:  [20.10455431]\n",
      "Bias for Tree model is:  [20.14544712]\n",
      "Var for Lin model is: [0.02338395]\n",
      "var for Tree model is: [1.1708267]\n",
      "MSE for Lin model is: [20.12793825]\n",
      "MSE for Tree model is: [21.31627382]\n",
      "\n",
      " end of iter for depth 8\n",
      "\n",
      "\n",
      "Bias for Lin model is:  [20.10455431]\n",
      "Bias for Tree model is:  [19.93447177]\n",
      "Var for Lin model is: [0.02338395]\n",
      "var for Tree model is: [1.03652307]\n",
      "MSE for Lin model is: [20.12793825]\n",
      "MSE for Tree model is: [20.97099484]\n",
      "\n",
      " end of iter for depth 9\n",
      "\n",
      "\n",
      "Bias for Lin model is:  [20.10455431]\n",
      "Bias for Tree model is:  [17.7494328]\n",
      "Var for Lin model is: [0.02338395]\n",
      "var for Tree model is: [3.65248602]\n",
      "MSE for Lin model is: [20.12793825]\n",
      "MSE for Tree model is: [21.40191883]\n",
      "\n",
      " end of iter for depth 10\n",
      "\n",
      "\n"
     ]
    }
   ],
   "source": [
    "## Invoking the functions defined above\n",
    "reg = reg = linear_model.LinearRegression()\n",
    "simulations = 100\n",
    "np.random.seed(22)\n",
    "X_test = np.random.uniform(-1,1,1)\n",
    "for depth in [3,4,6,8,9,10]:\n",
    "    tree = DecisionTreeRegressor(max_depth=depth)\n",
    "    results = run_simulation(reg, tree)\n",
    "    evaluate_simulation(results)\n",
    "    print(\"\\n end of iter for depth\", depth)\n",
    "    print('\\n')\n"
   ]
  },
  {
   "cell_type": "code",
   "execution_count": null,
   "metadata": {},
   "outputs": [],
   "source": []
  }
 ],
 "metadata": {
  "kernelspec": {
   "display_name": "Python 3",
   "language": "python",
   "name": "python3"
  },
  "language_info": {
   "codemirror_mode": {
    "name": "ipython",
    "version": 3
   },
   "file_extension": ".py",
   "mimetype": "text/x-python",
   "name": "python",
   "nbconvert_exporter": "python",
   "pygments_lexer": "ipython3",
   "version": "3.6.7"
  }
 },
 "nbformat": 4,
 "nbformat_minor": 2
}
