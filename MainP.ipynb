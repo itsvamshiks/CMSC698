{
 "cells": [
  {
   "cell_type": "code",
   "execution_count": 202,
   "metadata": {},
   "outputs": [],
   "source": [
    "from sklearn.datasets import make_blobs\n",
    "from sklearn.neighbors import KNeighborsClassifier\n",
    "import matplotlib.pyplot as plt\n",
    "from __future__ import division\n",
    "import sys\n",
    "from collections import defaultdict\n",
    "import random\n",
    "from pprint import pprint\n",
    "import numpy as np\n",
    "import math\n",
    "from collections import Counter"
   ]
  },
  {
   "cell_type": "code",
   "execution_count": 246,
   "metadata": {},
   "outputs": [],
   "source": [
    "features, labels = make_blobs(n_samples = 35000,\n",
    "                  # two feature variables,\n",
    "                  n_features = 2,\n",
    "                  # four clusters,\n",
    "                  centers = 4,\n",
    "                  # with .65 cluster standard deviation,\n",
    "                  cluster_std = 0.8,\n",
    "                  # shuffled,\n",
    "                  shuffle = True)\n",
    "\n",
    "data = {}\n",
    "for i in range(len(features)):\n",
    "    data[tuple(features[i])] = labels[i]"
   ]
  },
  {
   "cell_type": "code",
   "execution_count": 247,
   "metadata": {},
   "outputs": [
    {
     "data": {
      "text/plain": [
       "array([0, 1, 2, 3])"
      ]
     },
     "execution_count": 247,
     "metadata": {},
     "output_type": "execute_result"
    }
   ],
   "source": [
    "#data[tuple(features[0])]=labels[0]\n",
    "#data[tuple(features[0])]\n",
    "#labels[0] \n",
    "data[tuple(features[0])]\n",
    "np.unique(labels)"
   ]
  },
  {
   "cell_type": "code",
   "execution_count": 248,
   "metadata": {},
   "outputs": [
    {
     "data": {
      "image/png": "[encoded data removed]",
      "text/plain": [
       "<Figure size 432x288 with 1 Axes>"
      ]
     },
     "metadata": {},
     "output_type": "display_data"
    }
   ],
   "source": [
    " #Create a scatterplot of first two features\n",
    "plt.scatter(features[:,0],\n",
    "            features[:,1])\n",
    "\n",
    "# View scatterplot\n",
    "plt.show()"
   ]
  },
  {
   "cell_type": "code",
   "execution_count": 147,
   "metadata": {},
   "outputs": [],
   "source": [
    "def euclidean(p1,p2):\n",
    "    distance = np.linalg.norm(p1-p2)\n",
    "    return distance    "
   ]
  },
  {
   "cell_type": "code",
   "execution_count": 148,
   "metadata": {},
   "outputs": [],
   "source": [
    "def selectiveRandomCentroids(features,labels):\n",
    "    features_index = np.array(range(0,len(features)))\n",
    "    unique_labels = np.unique(labels)\n",
    "    rand = []\n",
    "    for n in unique_labels:\n",
    "        rand.append(features[np.random.choice(features_index[labels==n])])\n",
    "    #d = dict(zip(unique_labels,rand))\n",
    "    return rand"
   ]
  },
  {
   "cell_type": "code",
   "execution_count": 149,
   "metadata": {},
   "outputs": [],
   "source": [
    "def randomCentroids(features,k):\n",
    "    centroids = features[np.random.choice(features.shape[0], k, replace=False), :]\n",
    "    return centroids"
   ]
  },
  {
   "cell_type": "code",
   "execution_count": 150,
   "metadata": {
    "scrolled": true
   },
   "outputs": [
    {
     "name": "stdout",
     "output_type": "stream",
     "text": [
      "[8.029231366534908, 12.979025948672284, 1.6943368725016892, 8.545931308943157]\n",
      "2\n"
     ]
    },
    {
     "data": {
      "text/plain": [
       "array([[0., 0., 0.],\n",
       "       [0., 0., 0.],\n",
       "       [0., 0., 0.],\n",
       "       [0., 0., 0.]])"
      ]
     },
     "execution_count": 150,
     "metadata": {},
     "output_type": "execute_result"
    }
   ],
   "source": [
    "#euclidean(features[0],features[1])\n",
    "#randomCentroids(features,4)\n",
    "#new_centers = defaultdict(int)\n",
    "#new_centers[0]+=features[0]\n",
    "#new_centers[0]+=features[1]\n",
    "#new_centers\n",
    "centroids = randomCentroids(features,4)\n",
    "point = features[0]\n",
    "distances = [0 for x in range(len(centroids))]\n",
    "for i in range(len(centroids)):\n",
    "    distances[i] = euclidean(point,centroids[i])\n",
    "print(distances)\n",
    "minIndex = distances.index(min(distances))\n",
    "print(minIndex)\n",
    "#best = min(randomCentroids(features,4), key=lambda c: euclidean(features[0],c))\n",
    "#centroids[0]\n",
    "#assignments = assignClusters(features,centroids,labels)\n",
    "#data = assignments[0]\n",
    "#mean = sum(data)/len(data)\n",
    "\n",
    "# Calculate sum of square of difference\n",
    "# of data points from mean\n",
    "#dev = 0\n",
    "#for rec in data:\n",
    " #   dev += pow((rec - mean),2)\n",
    "\n",
    "# Calculate variance\n",
    "#var = dev/len(data)\n",
    "#std_dev = np.sqrt(var)\n",
    "#dp = features[0]\n",
    "#distances = [0 for x in range(len(centroids))]\n",
    "#for i in range(len(centroids)):\n",
    "#    distances[i] = euclidean(dp,centroids[i])\n",
    "    \n",
    "#len(checkIfClose(distances)) \n",
    "    \n",
    "#distance = np.sqrt(np.square(dp-centroids[0]))\n",
    "#print(np.mean(np.divide(distance,std_dev)))\n",
    "#print(distance)\n",
    "#print(std_dev)\n",
    "#print(dp)\n",
    "#calculateStdDev(centroids[0],data,dp)\n",
    "\n",
    "\n",
    "# Calculate standard deviation\n",
    "#std_dev = math.sqrt(var)\n",
    "#assignments[0][0]\n",
    "#print(centroids[0])\n",
    "#type(assignments[0][0])\n",
    "#np.divide(features[0],2,dtype = float)\n",
    "#features[0]\n",
    "#updateCentroids(assignments)\n",
    "#d = selectiveRandomCentroids(features,labels,4)\n",
    "#knn(4515,features,labels,5)\n",
    "newCentroids = np.zeros(shape=(4,3))\n",
    "newCentroids\n",
    "\n"
   ]
  },
  {
   "cell_type": "raw",
   "metadata": {},
   "source": [
    "def knn(i,features,labels,n):\n",
    "    knnModel = KNeighborsClassifier(n_neighbors=n)\n",
    "    knnModel.fit(features,labels)\n",
    "    prediction = knnModel.predict([features[i]])\n",
    "    return prediction[0]"
   ]
  },
  {
   "cell_type": "code",
   "execution_count": 225,
   "metadata": {},
   "outputs": [],
   "source": [
    "def knnImpl(index,features,n,data):\n",
    "    dist = {}\n",
    "    point = features[index]\n",
    "    for i in range(len(features)):\n",
    "        if(i!=index):\n",
    "            dist[tuple(features[i])] = euclidean(features[i],point)\n",
    "    sorted_dist = sorted(dist.items(), key=lambda kv: kv[1])   \n",
    "    clus = [0 for x in range(n)]\n",
    "    for i in range(n):\n",
    "        dp = sorted_dist[i][0]\n",
    "        clus[i] = data[dp]\n",
    "    counter = Counter(clus)\n",
    "    return counter.most_common()[0][0]\n",
    "            "
   ]
  },
  {
   "cell_type": "code",
   "execution_count": 257,
   "metadata": {},
   "outputs": [],
   "source": [
    "def assignClustersKNN(features,centroids,labels,data):\n",
    "    assignments = defaultdict(list)\n",
    "    distances = [[0 for x in range(len(centroids))] for y in range(len(features))]\n",
    "    count=0\n",
    "    for i in range(len(features)):\n",
    "        #minDist = euclidean(features[i],centroids[0])\n",
    "        #minIndex = 0\n",
    "        for j in range(0,len(centroids)):\n",
    "            distances[i][j] = euclidean(features[i],centroids[j])\n",
    "            #dist = euclidean(features[i],centroids[j])\n",
    "            #if(dist<minDist):\n",
    "            #    minDist = dist\n",
    "            #    minIndex = j        \n",
    "        near = checkIfClose(distances[i])\n",
    "        #print(near)\n",
    "        if len(near)==1:\n",
    "            clusterAssigned = distances[i].index(min(distances[i]))\n",
    "        else:\n",
    "            count = count+1\n",
    "            clusterAssigned = knn(i,features,labels,5)#knnImpl(i,features,5,data)#distances[i].index(min(distances[i]))\n",
    "        assignments[clusterAssigned].append(features[i])    \n",
    "    print(count)\n",
    "    return assignments    \n",
    "    "
   ]
  },
  {
   "cell_type": "code",
   "execution_count": 199,
   "metadata": {},
   "outputs": [],
   "source": [
    "def assignClustersStDev(features,centroids,labels):\n",
    "    assignments = defaultdict(list)\n",
    "    distances = [[0 for x in range(len(centroids))] for y in range(len(features))]\n",
    "    count = 0\n",
    "    for i in range(len(features)):\n",
    "        #minDist = euclidean(features[i],centroids[0])\n",
    "        #minIndex = 0\n",
    "        for j in range(0,len(centroids)):\n",
    "            distances[i][j] = euclidean(features[i],centroids[j])\n",
    "            #dist = euclidean(features[i],centroids[j])\n",
    "            #if(dist<minDist):\n",
    "            #    minDist = dist\n",
    "            #    minIndex = j        \n",
    "        near = checkIfClose(distances[i])\n",
    "        #print(near)\n",
    "        if len(near)==1:\n",
    "            clusterAssigned = distances[i].index(min(distances[i]))\n",
    "        else:\n",
    "            minCluster = distances[i].index(min(distances[i]))\n",
    "            nextCluster = near[1]\n",
    "            pivot = (len(features)/4)*0.1\n",
    "            if len(assignments[minCluster])>pivot and len(assignments[nextCluster])>pivot:\n",
    "                count=count+1\n",
    "                minDev = calculateStdDev(centroids[minCluster],assignments[minCluster],features[i])\n",
    "                nextDev = calculateStdDev(centroids[nextCluster],assignments[nextCluster],features[i])\n",
    "                if(minDev<=nextDev):\n",
    "                    clusterAssigned = minCluster\n",
    "                else:\n",
    "                    clusterAssigned = nextCluster\n",
    "            else:\n",
    "                clusterAssigned = minCluster\n",
    "                \n",
    "            #print(near)\n",
    "            #clusterAssigned = distances[i].index(min(distances[i]))#knn(i,features,labels,5)\n",
    "        assignments[clusterAssigned].append(features[i])    \n",
    "    print(count)\n",
    "    return assignments    \n"
   ]
  },
  {
   "cell_type": "code",
   "execution_count": 154,
   "metadata": {},
   "outputs": [],
   "source": [
    "def calculateStdDev(centroid,cluster,point):\n",
    "    mean = sum(cluster)/len(cluster)\n",
    "    dev = 0\n",
    "    for rec in cluster:\n",
    "        dev += pow((rec - mean),2)\n",
    "    var = dev/len(cluster)\n",
    "    std_dev = np.sqrt(var)\n",
    "    distance = np.sqrt(np.square(point-centroid))\n",
    "    numDev = np.mean(np.divide(distance,std_dev))\n",
    "    return numDev"
   ]
  },
  {
   "cell_type": "code",
   "execution_count": 227,
   "metadata": {},
   "outputs": [],
   "source": [
    "def checkIfClose(distances):\n",
    "    minElement = min(distances)\n",
    "    #distances[:] = [x - minElement for x in distances]\n",
    "    for i in range(len(distances)):\n",
    "        if distances[i]!=minElement and distances[i]<=1.1*minElement:\n",
    "            return [True,i]\n",
    "        else:\n",
    "            return [False]"
   ]
  },
  {
   "cell_type": "code",
   "execution_count": 156,
   "metadata": {},
   "outputs": [],
   "source": [
    "def updateCentroids(assignments):\n",
    "    newCentroids = np.zeros(shape=(len(assignments.keys()),2))\n",
    "    for i in assignments.keys():\n",
    "        clusterMembers = assignments[i]\n",
    "        #print(clusterMembers[0])\n",
    "        newCentroids[i] = np.mean(clusterMembers,axis=0)\n",
    "        #curCentroidSum = sum(clusterMembers[0],clusterMembers[1])\n",
    "        #for j in range(2,len(clusterMembers)):\n",
    "        #    curCentroidSum = sum(curCentroidSum,clusterMembers[j])\n",
    "        #newCentroids[i] = np.divide(curCentroidSum,len(clusterMembers))\n",
    "    return newCentroids    "
   ]
  },
  {
   "cell_type": "code",
   "execution_count": 259,
   "metadata": {},
   "outputs": [],
   "source": [
    "def kmeans(initialCentroids,features,labels,data,k,maxIter):\n",
    "    centroids = initialCentroids\n",
    "    for i in range(maxIter):\n",
    "        print(\"Iteration number: \"+str(i))\n",
    "        newClusters = assignClustersStDev(features,centroids,labels)\n",
    "        print(type(newClusters[0]))\n",
    "        newCentroids = updateCentroids(newClusters)   \n",
    "        print(\"************\")\n",
    "        print(newCentroids)\n",
    "        print(centroids)\n",
    "        print(\"************\")\n",
    "        if(np.array_equal(newCentroids,centroids)):\n",
    "            break\n",
    "        else:\n",
    "            centroids = newCentroids\n",
    "    return newClusters       "
   ]
  },
  {
   "cell_type": "code",
   "execution_count": 255,
   "metadata": {},
   "outputs": [],
   "source": [
    "centroids = randomCentroids(features,4)"
   ]
  },
  {
   "cell_type": "code",
   "execution_count": 260,
   "metadata": {
    "scrolled": false
   },
   "outputs": [
    {
     "name": "stdout",
     "output_type": "stream",
     "text": [
      "Iteration number: 0\n",
      "992\n",
      "<class 'list'>\n",
      "************\n",
      "[[-7.27129793  5.58363928]\n",
      " [-3.13657989  0.51520062]\n",
      " [-1.21319566 -2.62818916]\n",
      " [ 0.82877418  0.36771782]]\n",
      "[[-9.99970737  5.71205252]\n",
      " [-2.15560065 -1.9436407 ]\n",
      " [-1.63689836 -2.05985888]\n",
      " [-0.87541293 -1.41025867]]\n",
      "************\n",
      "Iteration number: 1\n",
      "566\n",
      "<class 'list'>\n",
      "************\n",
      "[[-7.29760558  5.60883429]\n",
      " [-3.34554913  3.21268156]\n",
      " [-0.9914102  -2.16335323]\n",
      " [ 2.02280887  0.68005229]]\n",
      "[[-7.27129793  5.58363928]\n",
      " [-3.13657989  0.51520062]\n",
      " [-1.21319566 -2.62818916]\n",
      " [ 0.82877418  0.36771782]]\n",
      "************\n",
      "Iteration number: 2\n",
      "205\n",
      "<class 'list'>\n",
      "************\n",
      "[[-9.02266523  6.16459558]\n",
      " [-3.91369974  4.26791584]\n",
      " [-0.96842718 -2.03303547]\n",
      " [ 2.15562735  0.77408848]]\n",
      "[[-7.29760558  5.60883429]\n",
      " [-3.34554913  3.21268156]\n",
      " [-0.9914102  -2.16335323]\n",
      " [ 2.02280887  0.68005229]]\n",
      "************\n",
      "Iteration number: 3\n",
      "2\n",
      "<class 'list'>\n",
      "************\n",
      "[[-9.43551682  6.27463639]\n",
      " [-4.05211625  4.36429424]\n",
      " [-0.96329207 -2.02440992]\n",
      " [ 2.16345039  0.77973626]]\n",
      "[[-9.02266523  6.16459558]\n",
      " [-3.91369974  4.26791584]\n",
      " [-0.96842718 -2.03303547]\n",
      " [ 2.15562735  0.77408848]]\n",
      "************\n",
      "Iteration number: 4\n",
      "0\n",
      "<class 'list'>\n",
      "************\n",
      "[[-9.43756256  6.27518872]\n",
      " [-4.05376203  4.36505183]\n",
      " [-0.96287488 -2.02415882]\n",
      " [ 2.16374776  0.78012624]]\n",
      "[[-9.43551682  6.27463639]\n",
      " [-4.05211625  4.36429424]\n",
      " [-0.96329207 -2.02440992]\n",
      " [ 2.16345039  0.77973626]]\n",
      "************\n",
      "Iteration number: 5\n",
      "0\n",
      "<class 'list'>\n",
      "************\n",
      "[[-9.43756256  6.27518872]\n",
      " [-4.05376203  4.36505183]\n",
      " [-0.96287488 -2.02415882]\n",
      " [ 2.16374776  0.78012624]]\n",
      "[[-9.43756256  6.27518872]\n",
      " [-4.05376203  4.36505183]\n",
      " [-0.96287488 -2.02415882]\n",
      " [ 2.16374776  0.78012624]]\n",
      "************\n"
     ]
    }
   ],
   "source": [
    "assign = kmeans(centroids,features,labels,data,4,100)"
   ]
  },
  {
   "cell_type": "code",
   "execution_count": 262,
   "metadata": {},
   "outputs": [
    {
     "data": {
      "text/plain": [
       "array([[-4.05376203,  4.36505183],\n",
       "       [-9.43756256,  6.27518872],\n",
       "       [-0.96287488, -2.02415882],\n",
       "       [ 2.16374776,  0.78012624]])"
      ]
     },
     "execution_count": 262,
     "metadata": {},
     "output_type": "execute_result"
    }
   ],
   "source": [
    "kmeansimp.cluster_centers_"
   ]
  },
  {
   "cell_type": "code",
   "execution_count": null,
   "metadata": {},
   "outputs": [],
   "source": [
    "[[-7.572967   -2.76480614]\n",
    " [ 3.77271674  0.73889065]\n",
    " [ 9.79553375  8.76190471]\n",
    " [ 9.12735302  7.68126672]]\n",
    "[[-7.572967   -2.76480614]\n",
    " [ 3.77271674  0.73889065]\n",
    " [ 9.79553375  8.76190471]\n",
    " [ 9.12735302  7.68126672]]\n",
    "\n",
    "[[-8.56239888  0.63339448]\n",
    " [ 3.77271674  0.73889065]\n",
    " [-6.58353511 -6.16300675]\n",
    " [ 9.44869068  8.20096097]]\n",
    "[[-8.56239888  0.63339448]\n",
    " [ 3.77271674  0.73889065]\n",
    " [-6.58353511 -6.16300675]\n",
    " [ 9.44869068  8.20096097]]"
   ]
  },
  {
   "cell_type": "code",
   "execution_count": 264,
   "metadata": {},
   "outputs": [
    {
     "data": {
      "text/plain": [
       "dict_keys([3, 1, 0, 2])"
      ]
     },
     "execution_count": 264,
     "metadata": {},
     "output_type": "execute_result"
    }
   ],
   "source": [
    "assign.keys()"
   ]
  },
  {
   "cell_type": "code",
   "execution_count": 263,
   "metadata": {},
   "outputs": [
    {
     "data": {
      "text/plain": [
       "1"
      ]
     },
     "execution_count": 263,
     "metadata": {},
     "output_type": "execute_result"
    }
   ],
   "source": [
    "data[tuple(features[0])]"
   ]
  },
  {
   "cell_type": "code",
   "execution_count": 265,
   "metadata": {},
   "outputs": [
    {
     "name": "stdout",
     "output_type": "stream",
     "text": [
      "35000\n"
     ]
    }
   ],
   "source": [
    "count = 0\n",
    "for i in assign.keys():\n",
    "    cluster = assign[i]\n",
    "    for item in cluster:\n",
    "        if data[tuple(item)]!=i:\n",
    "            count = count+1\n",
    "print(count)    "
   ]
  },
  {
   "cell_type": "code",
   "execution_count": 261,
   "metadata": {},
   "outputs": [],
   "source": [
    "from sklearn.cluster import KMeans\n",
    "kmeansimp = KMeans(n_clusters=4, random_state=0).fit(features)"
   ]
  },
  {
   "cell_type": "code",
   "execution_count": null,
   "metadata": {},
   "outputs": [],
   "source": []
  }
 ],
 "metadata": {
  "kernelspec": {
   "display_name": "Python 3",
   "language": "python",
   "name": "python3"
  },
  "language_info": {
   "codemirror_mode": {
    "name": "ipython",
    "version": 3
   },
   "file_extension": ".py",
   "mimetype": "text/x-python",
   "name": "python",
   "nbconvert_exporter": "python",
   "pygments_lexer": "ipython3",
   "version": "3.6.7"
  }
 },
 "nbformat": 4,
 "nbformat_minor": 2
}
